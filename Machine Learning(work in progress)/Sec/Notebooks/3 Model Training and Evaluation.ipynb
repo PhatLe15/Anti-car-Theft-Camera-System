{
 "cells": [
  {
   "cell_type": "markdown",
   "metadata": {},
   "source": [
    "# Classifying Urban sounds using Deep Learning\n",
    "\n",
    "## 3 Model Training and Evaluation "
   ]
  },
  {
   "cell_type": "markdown",
   "metadata": {},
   "source": [
    "### Load Preprocessed data "
   ]
  },
  {
   "cell_type": "code",
   "execution_count": 1,
   "metadata": {},
   "outputs": [],
   "source": [
    "# retrieve the preprocessed data from previous notebook\n",
    "\n",
    "%store -r x_train \n",
    "%store -r x_test \n",
    "%store -r y_train \n",
    "%store -r y_test \n",
    "%store -r yy \n",
    "%store -r le"
   ]
  },
  {
   "cell_type": "markdown",
   "metadata": {},
   "source": [
    "### Initial model architecture - MLP\n",
    "\n",
    "We will start with constructing a Multilayer Perceptron (MLP) Neural Network using Keras and a Tensorflow backend. \n",
    "\n",
    "Starting with a `sequential` model so we can build the model layer by layer. \n",
    "\n",
    "We will begin with a simple model architecture, consisting of three layers, an input layer, a hidden layer and an output layer. All three layers will be of the `dense` layer type which is a standard layer type that is used in many cases for neural networks. \n",
    "\n",
    "The first layer will receive the input shape. As each sample contains 40 MFCCs (or columns) we have a shape of (1x40) this means we will start with an input shape of 40. \n",
    "\n",
    "The first two layers will have 256 nodes. The activation function we will be using for our first 2 layers is the `ReLU`, or `Rectified Linear Activation`. This activation function has been proven to work well in neural networks.\n",
    "\n",
    "We will also apply a `Dropout` value of 50% on our first two layers. This will randomly exclude nodes from each update cycle which in turn results in a network that is capable of better generalisation and is less likely to overfit the training data.\n",
    "\n",
    "Our output layer will have 10 nodes (num_labels) which matches the number of possible classifications. The activation is for our output layer is `softmax`. Softmax makes the output sum up to 1 so the output can be interpreted as probabilities. The model will then make its prediction based on which option has the highest probability."
   ]
  },
  {
   "cell_type": "code",
   "execution_count": 2,
   "metadata": {},
   "outputs": [],
   "source": [
    "import numpy as np\n",
    "from keras.models import Sequential\n",
    "from keras.layers import Dense, Dropout, Activation, Flatten\n",
    "from keras.layers import Convolution2D, MaxPooling2D\n",
    "from keras.optimizers import Adam\n",
    "from keras.utils import np_utils\n",
    "from sklearn import metrics \n",
    "\n",
    "num_labels = yy.shape[1]\n",
    "filter_size = 2\n",
    "\n",
    "# Construct model \n",
    "model = Sequential()\n",
    "\n",
    "model.add(Dense(256, input_shape=(40,)))\n",
    "model.add(Activation('relu'))\n",
    "model.add(Dropout(0.5))\n",
    "\n",
    "model.add(Dense(256))\n",
    "model.add(Activation('relu'))\n",
    "model.add(Dropout(0.5))\n",
    "\n",
    "model.add(Dense(num_labels))\n",
    "model.add(Activation('softmax'))"
   ]
  },
  {
   "cell_type": "markdown",
   "metadata": {},
   "source": [
    "### Compiling the model \n",
    "\n",
    "For compiling our model, we will use the following three parameters: \n",
    "\n",
    "* Loss function - we will use `categorical_crossentropy`. This is the most common choice for classification. A lower score indicates that the model is performing better.\n",
    "\n",
    "* Metrics - we will use the `accuracy` metric which will allow us to view the accuracy score on the validation data when we train the model. \n",
    "\n",
    "* Optimizer - here we will use `adam` which is a generally good optimizer for many use cases.\n"
   ]
  },
  {
   "cell_type": "code",
   "execution_count": 3,
   "metadata": {},
   "outputs": [],
   "source": [
    "# Compile the model\n",
    "model.compile(loss='categorical_crossentropy', metrics=['accuracy'], optimizer='adam') "
   ]
  },
  {
   "cell_type": "code",
   "execution_count": 4,
   "metadata": {},
   "outputs": [
    {
     "name": "stdout",
     "output_type": "stream",
     "text": [
      "Model: \"sequential\"\n",
      "_________________________________________________________________\n",
      "Layer (type)                 Output Shape              Param #   \n",
      "=================================================================\n",
      "dense (Dense)                (None, 256)               10496     \n",
      "_________________________________________________________________\n",
      "activation (Activation)      (None, 256)               0         \n",
      "_________________________________________________________________\n",
      "dropout (Dropout)            (None, 256)               0         \n",
      "_________________________________________________________________\n",
      "dense_1 (Dense)              (None, 256)               65792     \n",
      "_________________________________________________________________\n",
      "activation_1 (Activation)    (None, 256)               0         \n",
      "_________________________________________________________________\n",
      "dropout_1 (Dropout)          (None, 256)               0         \n",
      "_________________________________________________________________\n",
      "dense_2 (Dense)              (None, 11)                2827      \n",
      "_________________________________________________________________\n",
      "activation_2 (Activation)    (None, 11)                0         \n",
      "=================================================================\n",
      "Total params: 79,115\n",
      "Trainable params: 79,115\n",
      "Non-trainable params: 0\n",
      "_________________________________________________________________\n",
      "Pre-training accuracy: 11.1681%\n"
     ]
    }
   ],
   "source": [
    "# Display model architecture summary \n",
    "model.summary()\n",
    "\n",
    "# Calculate pre-training accuracy \n",
    "score = model.evaluate(x_test, y_test, verbose=0)\n",
    "accuracy = 100*score[1]\n",
    "\n",
    "print(\"Pre-training accuracy: %.4f%%\" % accuracy)"
   ]
  },
  {
   "cell_type": "markdown",
   "metadata": {},
   "source": [
    "### Training \n",
    "\n",
    "Here we will train the model. \n",
    "\n",
    "We will start with 100 epochs which is the number of times the model will cycle through the data. The model will improve on each cycle until it reaches a certain point. \n",
    "\n",
    "We will also start with a low batch size, as having a large batch size can reduce the generalisation ability of the model. "
   ]
  },
  {
   "cell_type": "code",
   "execution_count": 5,
   "metadata": {},
   "outputs": [
    {
     "name": "stdout",
     "output_type": "stream",
     "text": [
      "Epoch 1/100\n",
      "220/220 [==============================] - 1s 4ms/step - loss: 8.7735 - accuracy: 0.1817 - val_loss: 2.2227 - val_accuracy: 0.1863\n",
      "\n",
      "Epoch 00001: val_loss improved from inf to 2.22269, saving model to saved_models\\weights.best.basic_mlp.hdf5\n",
      "Epoch 2/100\n",
      "220/220 [==============================] - 0s 1ms/step - loss: 2.3170 - accuracy: 0.2277 - val_loss: 2.0132 - val_accuracy: 0.2912\n",
      "\n",
      "Epoch 00002: val_loss improved from 2.22269 to 2.01319, saving model to saved_models\\weights.best.basic_mlp.hdf5\n",
      "Epoch 3/100\n",
      "220/220 [==============================] - 0s 1ms/step - loss: 2.0858 - accuracy: 0.2736 - val_loss: 1.9339 - val_accuracy: 0.3413\n",
      "\n",
      "Epoch 00003: val_loss improved from 2.01319 to 1.93386, saving model to saved_models\\weights.best.basic_mlp.hdf5\n",
      "Epoch 4/100\n",
      "220/220 [==============================] - 0s 1ms/step - loss: 1.9262 - accuracy: 0.3232 - val_loss: 1.7559 - val_accuracy: 0.4638\n",
      "\n",
      "Epoch 00004: val_loss improved from 1.93386 to 1.75590, saving model to saved_models\\weights.best.basic_mlp.hdf5\n",
      "Epoch 5/100\n",
      "220/220 [==============================] - 0s 1ms/step - loss: 1.8176 - accuracy: 0.3700 - val_loss: 1.6457 - val_accuracy: 0.4467\n",
      "\n",
      "Epoch 00005: val_loss improved from 1.75590 to 1.64573, saving model to saved_models\\weights.best.basic_mlp.hdf5\n",
      "Epoch 6/100\n",
      "220/220 [==============================] - 0s 1ms/step - loss: 1.7229 - accuracy: 0.3933 - val_loss: 1.5076 - val_accuracy: 0.5162\n",
      "\n",
      "Epoch 00006: val_loss improved from 1.64573 to 1.50761, saving model to saved_models\\weights.best.basic_mlp.hdf5\n",
      "Epoch 7/100\n",
      "220/220 [==============================] - 0s 1ms/step - loss: 1.6446 - accuracy: 0.4327 - val_loss: 1.3755 - val_accuracy: 0.5373\n",
      "\n",
      "Epoch 00007: val_loss improved from 1.50761 to 1.37554, saving model to saved_models\\weights.best.basic_mlp.hdf5\n",
      "Epoch 8/100\n",
      "220/220 [==============================] - 0s 1ms/step - loss: 1.5483 - accuracy: 0.4686 - val_loss: 1.3050 - val_accuracy: 0.5744\n",
      "\n",
      "Epoch 00008: val_loss improved from 1.37554 to 1.30504, saving model to saved_models\\weights.best.basic_mlp.hdf5\n",
      "Epoch 9/100\n",
      "220/220 [==============================] - 0s 1ms/step - loss: 1.4669 - accuracy: 0.4998 - val_loss: 1.2539 - val_accuracy: 0.6006\n",
      "\n",
      "Epoch 00009: val_loss improved from 1.30504 to 1.25394, saving model to saved_models\\weights.best.basic_mlp.hdf5\n",
      "Epoch 10/100\n",
      "220/220 [==============================] - 0s 1ms/step - loss: 1.3813 - accuracy: 0.5291 - val_loss: 1.1314 - val_accuracy: 0.6336\n",
      "\n",
      "Epoch 00010: val_loss improved from 1.25394 to 1.13135, saving model to saved_models\\weights.best.basic_mlp.hdf5\n",
      "Epoch 11/100\n",
      "220/220 [==============================] - 0s 1ms/step - loss: 1.3200 - accuracy: 0.5488 - val_loss: 1.0993 - val_accuracy: 0.6387\n",
      "\n",
      "Epoch 00011: val_loss improved from 1.13135 to 1.09926, saving model to saved_models\\weights.best.basic_mlp.hdf5\n",
      "Epoch 12/100\n",
      "220/220 [==============================] - 0s 1ms/step - loss: 1.2733 - accuracy: 0.5679 - val_loss: 1.0456 - val_accuracy: 0.6507\n",
      "\n",
      "Epoch 00012: val_loss improved from 1.09926 to 1.04558, saving model to saved_models\\weights.best.basic_mlp.hdf5\n",
      "Epoch 13/100\n",
      "220/220 [==============================] - 0s 1ms/step - loss: 1.2248 - accuracy: 0.5876 - val_loss: 0.9976 - val_accuracy: 0.6775\n",
      "\n",
      "Epoch 00013: val_loss improved from 1.04558 to 0.99760, saving model to saved_models\\weights.best.basic_mlp.hdf5\n",
      "Epoch 14/100\n",
      "220/220 [==============================] - 0s 1ms/step - loss: 1.1767 - accuracy: 0.6035 - val_loss: 0.9647 - val_accuracy: 0.6838\n",
      "\n",
      "Epoch 00014: val_loss improved from 0.99760 to 0.96473, saving model to saved_models\\weights.best.basic_mlp.hdf5\n",
      "Epoch 15/100\n",
      "220/220 [==============================] - 0s 1ms/step - loss: 1.1452 - accuracy: 0.6148 - val_loss: 0.9321 - val_accuracy: 0.6940\n",
      "\n",
      "Epoch 00015: val_loss improved from 0.96473 to 0.93209, saving model to saved_models\\weights.best.basic_mlp.hdf5\n",
      "Epoch 16/100\n",
      "220/220 [==============================] - 0s 1ms/step - loss: 1.0964 - accuracy: 0.6275 - val_loss: 0.9152 - val_accuracy: 0.7048\n",
      "\n",
      "Epoch 00016: val_loss improved from 0.93209 to 0.91522, saving model to saved_models\\weights.best.basic_mlp.hdf5\n",
      "Epoch 17/100\n",
      "220/220 [==============================] - 0s 1ms/step - loss: 1.0574 - accuracy: 0.6469 - val_loss: 0.8506 - val_accuracy: 0.7208\n",
      "\n",
      "Epoch 00017: val_loss improved from 0.91522 to 0.85065, saving model to saved_models\\weights.best.basic_mlp.hdf5\n",
      "Epoch 18/100\n",
      "220/220 [==============================] - 0s 1ms/step - loss: 1.0366 - accuracy: 0.6444 - val_loss: 0.8338 - val_accuracy: 0.7356\n",
      "\n",
      "Epoch 00018: val_loss improved from 0.85065 to 0.83377, saving model to saved_models\\weights.best.basic_mlp.hdf5\n",
      "Epoch 19/100\n",
      "220/220 [==============================] - 0s 1ms/step - loss: 1.0078 - accuracy: 0.6547 - val_loss: 0.7994 - val_accuracy: 0.7442\n",
      "\n",
      "Epoch 00019: val_loss improved from 0.83377 to 0.79943, saving model to saved_models\\weights.best.basic_mlp.hdf5\n",
      "Epoch 20/100\n",
      "220/220 [==============================] - 0s 1ms/step - loss: 0.9750 - accuracy: 0.6689 - val_loss: 0.8189 - val_accuracy: 0.7316\n",
      "\n",
      "Epoch 00020: val_loss did not improve from 0.79943\n",
      "Epoch 21/100\n",
      "220/220 [==============================] - 0s 1ms/step - loss: 0.9712 - accuracy: 0.6736 - val_loss: 0.7623 - val_accuracy: 0.7652\n",
      "\n",
      "Epoch 00021: val_loss improved from 0.79943 to 0.76227, saving model to saved_models\\weights.best.basic_mlp.hdf5\n",
      "Epoch 22/100\n",
      "220/220 [==============================] - 0s 1ms/step - loss: 0.9381 - accuracy: 0.6795 - val_loss: 0.7732 - val_accuracy: 0.7578\n",
      "\n",
      "Epoch 00022: val_loss did not improve from 0.76227\n",
      "Epoch 23/100\n",
      "220/220 [==============================] - 0s 1ms/step - loss: 0.9185 - accuracy: 0.6836 - val_loss: 0.7302 - val_accuracy: 0.7715\n",
      "\n",
      "Epoch 00023: val_loss improved from 0.76227 to 0.73020, saving model to saved_models\\weights.best.basic_mlp.hdf5\n",
      "Epoch 24/100\n",
      "220/220 [==============================] - 0s 1ms/step - loss: 0.8872 - accuracy: 0.6983 - val_loss: 0.7513 - val_accuracy: 0.7647\n",
      "\n",
      "Epoch 00024: val_loss did not improve from 0.73020\n",
      "Epoch 25/100\n",
      "220/220 [==============================] - 0s 1ms/step - loss: 0.8838 - accuracy: 0.7069 - val_loss: 0.6952 - val_accuracy: 0.7766\n",
      "\n",
      "Epoch 00025: val_loss improved from 0.73020 to 0.69516, saving model to saved_models\\weights.best.basic_mlp.hdf5\n",
      "Epoch 26/100\n",
      "220/220 [==============================] - 0s 1ms/step - loss: 0.8719 - accuracy: 0.7086 - val_loss: 0.6968 - val_accuracy: 0.7766\n",
      "\n",
      "Epoch 00026: val_loss did not improve from 0.69516\n",
      "Epoch 27/100\n",
      "220/220 [==============================] - 0s 1ms/step - loss: 0.8430 - accuracy: 0.7165 - val_loss: 0.6914 - val_accuracy: 0.7926\n",
      "\n",
      "Epoch 00027: val_loss improved from 0.69516 to 0.69135, saving model to saved_models\\weights.best.basic_mlp.hdf5\n",
      "Epoch 28/100\n",
      "220/220 [==============================] - 0s 1ms/step - loss: 0.8305 - accuracy: 0.7177 - val_loss: 0.6661 - val_accuracy: 0.7954\n",
      "\n",
      "Epoch 00028: val_loss improved from 0.69135 to 0.66605, saving model to saved_models\\weights.best.basic_mlp.hdf5\n",
      "Epoch 29/100\n",
      "220/220 [==============================] - 0s 1ms/step - loss: 0.8146 - accuracy: 0.7231 - val_loss: 0.6511 - val_accuracy: 0.7920\n",
      "\n",
      "Epoch 00029: val_loss improved from 0.66605 to 0.65109, saving model to saved_models\\weights.best.basic_mlp.hdf5\n",
      "Epoch 30/100\n",
      "220/220 [==============================] - 0s 1ms/step - loss: 0.8102 - accuracy: 0.7240 - val_loss: 0.6380 - val_accuracy: 0.7989\n",
      "\n",
      "Epoch 00030: val_loss improved from 0.65109 to 0.63804, saving model to saved_models\\weights.best.basic_mlp.hdf5\n",
      "Epoch 31/100\n",
      "220/220 [==============================] - 0s 1ms/step - loss: 0.7807 - accuracy: 0.7351 - val_loss: 0.6352 - val_accuracy: 0.8046\n",
      "\n",
      "Epoch 00031: val_loss improved from 0.63804 to 0.63519, saving model to saved_models\\weights.best.basic_mlp.hdf5\n",
      "Epoch 32/100\n",
      "220/220 [==============================] - 0s 1ms/step - loss: 0.7748 - accuracy: 0.7368 - val_loss: 0.6448 - val_accuracy: 0.7994\n",
      "\n",
      "Epoch 00032: val_loss did not improve from 0.63519\n",
      "Epoch 33/100\n",
      "220/220 [==============================] - 0s 1ms/step - loss: 0.7715 - accuracy: 0.7317 - val_loss: 0.6060 - val_accuracy: 0.8063\n",
      "\n",
      "Epoch 00033: val_loss improved from 0.63519 to 0.60597, saving model to saved_models\\weights.best.basic_mlp.hdf5\n",
      "Epoch 34/100\n"
     ]
    },
    {
     "name": "stdout",
     "output_type": "stream",
     "text": [
      "220/220 [==============================] - 0s 1ms/step - loss: 0.7676 - accuracy: 0.7344 - val_loss: 0.6196 - val_accuracy: 0.8063\n",
      "\n",
      "Epoch 00034: val_loss did not improve from 0.60597\n",
      "Epoch 35/100\n",
      "220/220 [==============================] - 0s 1ms/step - loss: 0.7344 - accuracy: 0.7456 - val_loss: 0.6018 - val_accuracy: 0.8057\n",
      "\n",
      "Epoch 00035: val_loss improved from 0.60597 to 0.60185, saving model to saved_models\\weights.best.basic_mlp.hdf5\n",
      "Epoch 36/100\n",
      "220/220 [==============================] - 0s 1ms/step - loss: 0.7023 - accuracy: 0.7482 - val_loss: 0.5874 - val_accuracy: 0.8103\n",
      "\n",
      "Epoch 00036: val_loss improved from 0.60185 to 0.58743, saving model to saved_models\\weights.best.basic_mlp.hdf5\n",
      "Epoch 37/100\n",
      "220/220 [==============================] - 0s 1ms/step - loss: 0.7222 - accuracy: 0.7513 - val_loss: 0.5780 - val_accuracy: 0.8148\n",
      "\n",
      "Epoch 00037: val_loss improved from 0.58743 to 0.57795, saving model to saved_models\\weights.best.basic_mlp.hdf5\n",
      "Epoch 38/100\n",
      "220/220 [==============================] - 0s 1ms/step - loss: 0.7004 - accuracy: 0.7609 - val_loss: 0.5566 - val_accuracy: 0.8239\n",
      "\n",
      "Epoch 00038: val_loss improved from 0.57795 to 0.55665, saving model to saved_models\\weights.best.basic_mlp.hdf5\n",
      "Epoch 39/100\n",
      "220/220 [==============================] - 0s 1ms/step - loss: 0.6950 - accuracy: 0.7664 - val_loss: 0.5386 - val_accuracy: 0.8262\n",
      "\n",
      "Epoch 00039: val_loss improved from 0.55665 to 0.53862, saving model to saved_models\\weights.best.basic_mlp.hdf5\n",
      "Epoch 40/100\n",
      "220/220 [==============================] - 0s 1ms/step - loss: 0.6955 - accuracy: 0.7650 - val_loss: 0.5511 - val_accuracy: 0.8256\n",
      "\n",
      "Epoch 00040: val_loss did not improve from 0.53862\n",
      "Epoch 41/100\n",
      "220/220 [==============================] - 0s 1ms/step - loss: 0.6956 - accuracy: 0.7663 - val_loss: 0.5501 - val_accuracy: 0.8302\n",
      "\n",
      "Epoch 00041: val_loss did not improve from 0.53862\n",
      "Epoch 42/100\n",
      "220/220 [==============================] - 0s 1ms/step - loss: 0.6924 - accuracy: 0.7680 - val_loss: 0.5534 - val_accuracy: 0.8365\n",
      "\n",
      "Epoch 00042: val_loss did not improve from 0.53862\n",
      "Epoch 43/100\n",
      "220/220 [==============================] - 0s 1ms/step - loss: 0.6911 - accuracy: 0.7669 - val_loss: 0.5439 - val_accuracy: 0.8222\n",
      "\n",
      "Epoch 00043: val_loss did not improve from 0.53862\n",
      "Epoch 44/100\n",
      "220/220 [==============================] - 0s 1ms/step - loss: 0.6922 - accuracy: 0.7667 - val_loss: 0.5675 - val_accuracy: 0.8177\n",
      "\n",
      "Epoch 00044: val_loss did not improve from 0.53862\n",
      "Epoch 45/100\n",
      "220/220 [==============================] - 0s 1ms/step - loss: 0.6748 - accuracy: 0.7693 - val_loss: 0.5206 - val_accuracy: 0.8353\n",
      "\n",
      "Epoch 00045: val_loss improved from 0.53862 to 0.52061, saving model to saved_models\\weights.best.basic_mlp.hdf5\n",
      "Epoch 46/100\n",
      "220/220 [==============================] - 0s 1ms/step - loss: 0.6569 - accuracy: 0.7783 - val_loss: 0.5314 - val_accuracy: 0.8308\n",
      "\n",
      "Epoch 00046: val_loss did not improve from 0.52061\n",
      "Epoch 47/100\n",
      "220/220 [==============================] - 0s 1ms/step - loss: 0.6524 - accuracy: 0.7797 - val_loss: 0.5182 - val_accuracy: 0.8450\n",
      "\n",
      "Epoch 00047: val_loss improved from 0.52061 to 0.51821, saving model to saved_models\\weights.best.basic_mlp.hdf5\n",
      "Epoch 48/100\n",
      "220/220 [==============================] - 0s 1ms/step - loss: 0.6531 - accuracy: 0.7814 - val_loss: 0.5208 - val_accuracy: 0.8393\n",
      "\n",
      "Epoch 00048: val_loss did not improve from 0.51821\n",
      "Epoch 49/100\n",
      "220/220 [==============================] - 0s 1ms/step - loss: 0.6496 - accuracy: 0.7845 - val_loss: 0.5223 - val_accuracy: 0.8330\n",
      "\n",
      "Epoch 00049: val_loss did not improve from 0.51821\n",
      "Epoch 50/100\n",
      "220/220 [==============================] - 0s 1ms/step - loss: 0.6330 - accuracy: 0.7824 - val_loss: 0.4839 - val_accuracy: 0.8416\n",
      "\n",
      "Epoch 00050: val_loss improved from 0.51821 to 0.48392, saving model to saved_models\\weights.best.basic_mlp.hdf5\n",
      "Epoch 51/100\n",
      "220/220 [==============================] - 0s 1ms/step - loss: 0.6357 - accuracy: 0.7888 - val_loss: 0.5021 - val_accuracy: 0.8490\n",
      "\n",
      "Epoch 00051: val_loss did not improve from 0.48392\n",
      "Epoch 52/100\n",
      "220/220 [==============================] - 0s 1ms/step - loss: 0.6176 - accuracy: 0.7888 - val_loss: 0.5011 - val_accuracy: 0.8462\n",
      "\n",
      "Epoch 00052: val_loss did not improve from 0.48392\n",
      "Epoch 53/100\n",
      "220/220 [==============================] - 0s 1ms/step - loss: 0.6304 - accuracy: 0.7871 - val_loss: 0.5035 - val_accuracy: 0.8399\n",
      "\n",
      "Epoch 00053: val_loss did not improve from 0.48392\n",
      "Epoch 54/100\n",
      "220/220 [==============================] - 0s 1ms/step - loss: 0.6264 - accuracy: 0.7877 - val_loss: 0.4861 - val_accuracy: 0.8490\n",
      "\n",
      "Epoch 00054: val_loss did not improve from 0.48392\n",
      "Epoch 55/100\n",
      "220/220 [==============================] - 0s 1ms/step - loss: 0.6215 - accuracy: 0.7892 - val_loss: 0.4841 - val_accuracy: 0.8587\n",
      "\n",
      "Epoch 00055: val_loss did not improve from 0.48392\n",
      "Epoch 56/100\n",
      "220/220 [==============================] - 0s 1ms/step - loss: 0.6227 - accuracy: 0.7859 - val_loss: 0.4950 - val_accuracy: 0.8479\n",
      "\n",
      "Epoch 00056: val_loss did not improve from 0.48392\n",
      "Epoch 57/100\n",
      "220/220 [==============================] - 0s 1ms/step - loss: 0.6118 - accuracy: 0.7907 - val_loss: 0.4958 - val_accuracy: 0.8433\n",
      "\n",
      "Epoch 00057: val_loss did not improve from 0.48392\n",
      "Epoch 58/100\n",
      "220/220 [==============================] - 0s 1ms/step - loss: 0.6195 - accuracy: 0.7939 - val_loss: 0.5086 - val_accuracy: 0.8473\n",
      "\n",
      "Epoch 00058: val_loss did not improve from 0.48392\n",
      "Epoch 59/100\n",
      "220/220 [==============================] - 0s 1ms/step - loss: 0.6125 - accuracy: 0.7888 - val_loss: 0.4861 - val_accuracy: 0.8519\n",
      "\n",
      "Epoch 00059: val_loss did not improve from 0.48392\n",
      "Epoch 60/100\n",
      "220/220 [==============================] - 0s 1ms/step - loss: 0.5901 - accuracy: 0.7993 - val_loss: 0.4823 - val_accuracy: 0.8507\n",
      "\n",
      "Epoch 00060: val_loss improved from 0.48392 to 0.48229, saving model to saved_models\\weights.best.basic_mlp.hdf5\n",
      "Epoch 61/100\n",
      "220/220 [==============================] - 0s 1ms/step - loss: 0.6027 - accuracy: 0.7975 - val_loss: 0.4743 - val_accuracy: 0.8553\n",
      "\n",
      "Epoch 00061: val_loss improved from 0.48229 to 0.47427, saving model to saved_models\\weights.best.basic_mlp.hdf5\n",
      "Epoch 62/100\n",
      "220/220 [==============================] - 0s 1ms/step - loss: 0.6027 - accuracy: 0.7948 - val_loss: 0.4781 - val_accuracy: 0.8496\n",
      "\n",
      "Epoch 00062: val_loss did not improve from 0.47427\n",
      "Epoch 63/100\n",
      "220/220 [==============================] - 0s 1ms/step - loss: 0.5878 - accuracy: 0.7996 - val_loss: 0.4687 - val_accuracy: 0.8553\n",
      "\n",
      "Epoch 00063: val_loss improved from 0.47427 to 0.46872, saving model to saved_models\\weights.best.basic_mlp.hdf5\n",
      "Epoch 64/100\n",
      "220/220 [==============================] - 0s 1ms/step - loss: 0.5784 - accuracy: 0.8032 - val_loss: 0.4659 - val_accuracy: 0.8587\n",
      "\n",
      "Epoch 00064: val_loss improved from 0.46872 to 0.46593, saving model to saved_models\\weights.best.basic_mlp.hdf5\n",
      "Epoch 65/100\n",
      "220/220 [==============================] - 0s 1ms/step - loss: 0.6017 - accuracy: 0.7991 - val_loss: 0.4535 - val_accuracy: 0.8558\n",
      "\n",
      "Epoch 00065: val_loss improved from 0.46593 to 0.45345, saving model to saved_models\\weights.best.basic_mlp.hdf5\n",
      "Epoch 66/100\n",
      "220/220 [==============================] - 0s 1ms/step - loss: 0.5833 - accuracy: 0.7989 - val_loss: 0.4569 - val_accuracy: 0.8667\n",
      "\n",
      "Epoch 00066: val_loss did not improve from 0.45345\n",
      "Epoch 67/100\n",
      "220/220 [==============================] - 0s 1ms/step - loss: 0.5786 - accuracy: 0.8060 - val_loss: 0.4763 - val_accuracy: 0.8524\n",
      "\n",
      "Epoch 00067: val_loss did not improve from 0.45345\n",
      "Epoch 68/100\n",
      "220/220 [==============================] - 0s 1ms/step - loss: 0.5787 - accuracy: 0.7993 - val_loss: 0.4658 - val_accuracy: 0.8501\n",
      "\n",
      "Epoch 00068: val_loss did not improve from 0.45345\n",
      "Epoch 69/100\n",
      "220/220 [==============================] - 0s 1ms/step - loss: 0.6017 - accuracy: 0.7993 - val_loss: 0.4568 - val_accuracy: 0.8632\n",
      "\n",
      "Epoch 00069: val_loss did not improve from 0.45345\n",
      "Epoch 70/100\n",
      "220/220 [==============================] - 0s 1ms/step - loss: 0.5705 - accuracy: 0.8097 - val_loss: 0.4692 - val_accuracy: 0.8513\n",
      "\n",
      "Epoch 00070: val_loss did not improve from 0.45345\n",
      "Epoch 71/100\n",
      "220/220 [==============================] - 0s 1ms/step - loss: 0.5756 - accuracy: 0.8088 - val_loss: 0.4797 - val_accuracy: 0.8507\n",
      "\n",
      "Epoch 00071: val_loss did not improve from 0.45345\n",
      "Epoch 72/100\n"
     ]
    },
    {
     "name": "stdout",
     "output_type": "stream",
     "text": [
      "220/220 [==============================] - 0s 1ms/step - loss: 0.5743 - accuracy: 0.8126 - val_loss: 0.4641 - val_accuracy: 0.8644\n",
      "\n",
      "Epoch 00072: val_loss did not improve from 0.45345\n",
      "Epoch 73/100\n",
      "220/220 [==============================] - 0s 1ms/step - loss: 0.5568 - accuracy: 0.8143 - val_loss: 0.4584 - val_accuracy: 0.8632\n",
      "\n",
      "Epoch 00073: val_loss did not improve from 0.45345\n",
      "Epoch 74/100\n",
      "220/220 [==============================] - 0s 1ms/step - loss: 0.5528 - accuracy: 0.8174 - val_loss: 0.4597 - val_accuracy: 0.8587\n",
      "\n",
      "Epoch 00074: val_loss did not improve from 0.45345\n",
      "Epoch 75/100\n",
      "220/220 [==============================] - 0s 1ms/step - loss: 0.5738 - accuracy: 0.8078 - val_loss: 0.4764 - val_accuracy: 0.8519\n",
      "\n",
      "Epoch 00075: val_loss did not improve from 0.45345\n",
      "Epoch 76/100\n",
      "220/220 [==============================] - 0s 1ms/step - loss: 0.5828 - accuracy: 0.8038 - val_loss: 0.4575 - val_accuracy: 0.8655\n",
      "\n",
      "Epoch 00076: val_loss did not improve from 0.45345\n",
      "Epoch 77/100\n",
      "220/220 [==============================] - 0s 1ms/step - loss: 0.5618 - accuracy: 0.8159 - val_loss: 0.4710 - val_accuracy: 0.8587\n",
      "\n",
      "Epoch 00077: val_loss did not improve from 0.45345\n",
      "Epoch 78/100\n",
      "220/220 [==============================] - 0s 1ms/step - loss: 0.5534 - accuracy: 0.8055 - val_loss: 0.4601 - val_accuracy: 0.8513\n",
      "\n",
      "Epoch 00078: val_loss did not improve from 0.45345\n",
      "Epoch 79/100\n",
      "220/220 [==============================] - 0s 1ms/step - loss: 0.5380 - accuracy: 0.8145 - val_loss: 0.4317 - val_accuracy: 0.8769\n",
      "\n",
      "Epoch 00079: val_loss improved from 0.45345 to 0.43167, saving model to saved_models\\weights.best.basic_mlp.hdf5\n",
      "Epoch 80/100\n",
      "220/220 [==============================] - 0s 1ms/step - loss: 0.5230 - accuracy: 0.8219 - val_loss: 0.4463 - val_accuracy: 0.8564\n",
      "\n",
      "Epoch 00080: val_loss did not improve from 0.43167\n",
      "Epoch 81/100\n",
      "220/220 [==============================] - 0s 1ms/step - loss: 0.5411 - accuracy: 0.8164 - val_loss: 0.4614 - val_accuracy: 0.8604\n",
      "\n",
      "Epoch 00081: val_loss did not improve from 0.43167\n",
      "Epoch 82/100\n",
      "220/220 [==============================] - 0s 1ms/step - loss: 0.5628 - accuracy: 0.8126 - val_loss: 0.4403 - val_accuracy: 0.8627\n",
      "\n",
      "Epoch 00082: val_loss did not improve from 0.43167\n",
      "Epoch 83/100\n",
      "220/220 [==============================] - 0s 1ms/step - loss: 0.5567 - accuracy: 0.8137 - val_loss: 0.4388 - val_accuracy: 0.8644\n",
      "\n",
      "Epoch 00083: val_loss did not improve from 0.43167\n",
      "Epoch 84/100\n",
      "220/220 [==============================] - 0s 1ms/step - loss: 0.5616 - accuracy: 0.8099 - val_loss: 0.4315 - val_accuracy: 0.8707\n",
      "\n",
      "Epoch 00084: val_loss improved from 0.43167 to 0.43155, saving model to saved_models\\weights.best.basic_mlp.hdf5\n",
      "Epoch 85/100\n",
      "220/220 [==============================] - 0s 1ms/step - loss: 0.5291 - accuracy: 0.8233 - val_loss: 0.4221 - val_accuracy: 0.8746\n",
      "\n",
      "Epoch 00085: val_loss improved from 0.43155 to 0.42212, saving model to saved_models\\weights.best.basic_mlp.hdf5\n",
      "Epoch 86/100\n",
      "220/220 [==============================] - 0s 1ms/step - loss: 0.5325 - accuracy: 0.8196 - val_loss: 0.4328 - val_accuracy: 0.8678\n",
      "\n",
      "Epoch 00086: val_loss did not improve from 0.42212\n",
      "Epoch 87/100\n",
      "220/220 [==============================] - 0s 1ms/step - loss: 0.5258 - accuracy: 0.8224 - val_loss: 0.4182 - val_accuracy: 0.8729\n",
      "\n",
      "Epoch 00087: val_loss improved from 0.42212 to 0.41816, saving model to saved_models\\weights.best.basic_mlp.hdf5\n",
      "Epoch 88/100\n",
      "220/220 [==============================] - 0s 1ms/step - loss: 0.5270 - accuracy: 0.8253 - val_loss: 0.4462 - val_accuracy: 0.8627\n",
      "\n",
      "Epoch 00088: val_loss did not improve from 0.41816\n",
      "Epoch 89/100\n",
      "220/220 [==============================] - 0s 1ms/step - loss: 0.5446 - accuracy: 0.8207 - val_loss: 0.4416 - val_accuracy: 0.8615\n",
      "\n",
      "Epoch 00089: val_loss did not improve from 0.41816\n",
      "Epoch 90/100\n",
      "220/220 [==============================] - 0s 1ms/step - loss: 0.5431 - accuracy: 0.8184 - val_loss: 0.4464 - val_accuracy: 0.8695\n",
      "\n",
      "Epoch 00090: val_loss did not improve from 0.41816\n",
      "Epoch 91/100\n",
      "220/220 [==============================] - 0s 1ms/step - loss: 0.5353 - accuracy: 0.8213 - val_loss: 0.4283 - val_accuracy: 0.8724\n",
      "\n",
      "Epoch 00091: val_loss did not improve from 0.41816\n",
      "Epoch 92/100\n",
      "220/220 [==============================] - 0s 1ms/step - loss: 0.5311 - accuracy: 0.8217 - val_loss: 0.4314 - val_accuracy: 0.8695\n",
      "\n",
      "Epoch 00092: val_loss did not improve from 0.41816\n",
      "Epoch 93/100\n",
      "220/220 [==============================] - 0s 1ms/step - loss: 0.5379 - accuracy: 0.8174 - val_loss: 0.4344 - val_accuracy: 0.8684\n",
      "\n",
      "Epoch 00093: val_loss did not improve from 0.41816\n",
      "Epoch 94/100\n",
      "220/220 [==============================] - 0s 1ms/step - loss: 0.5041 - accuracy: 0.8307 - val_loss: 0.4396 - val_accuracy: 0.8684\n",
      "\n",
      "Epoch 00094: val_loss did not improve from 0.41816\n",
      "Epoch 95/100\n",
      "220/220 [==============================] - 0s 1ms/step - loss: 0.5041 - accuracy: 0.8291 - val_loss: 0.4187 - val_accuracy: 0.8764\n",
      "\n",
      "Epoch 00095: val_loss did not improve from 0.41816\n",
      "Epoch 96/100\n",
      "220/220 [==============================] - 0s 1ms/step - loss: 0.5042 - accuracy: 0.8261 - val_loss: 0.4210 - val_accuracy: 0.8729\n",
      "\n",
      "Epoch 00096: val_loss did not improve from 0.41816\n",
      "Epoch 97/100\n",
      "220/220 [==============================] - 0s 1ms/step - loss: 0.5198 - accuracy: 0.8318 - val_loss: 0.4275 - val_accuracy: 0.8689\n",
      "\n",
      "Epoch 00097: val_loss did not improve from 0.41816\n",
      "Epoch 98/100\n",
      "220/220 [==============================] - 0s 1ms/step - loss: 0.5330 - accuracy: 0.8169 - val_loss: 0.4249 - val_accuracy: 0.8712\n",
      "\n",
      "Epoch 00098: val_loss did not improve from 0.41816\n",
      "Epoch 99/100\n",
      "220/220 [==============================] - 0s 1ms/step - loss: 0.5409 - accuracy: 0.8260 - val_loss: 0.4393 - val_accuracy: 0.8775\n",
      "\n",
      "Epoch 00099: val_loss did not improve from 0.41816\n",
      "Epoch 100/100\n",
      "220/220 [==============================] - 0s 1ms/step - loss: 0.5274 - accuracy: 0.8224 - val_loss: 0.4319 - val_accuracy: 0.8672\n",
      "\n",
      "Epoch 00100: val_loss did not improve from 0.41816\n",
      "Training completed in time:  0:00:26.794819\n"
     ]
    }
   ],
   "source": [
    "from keras.callbacks import ModelCheckpoint \n",
    "from datetime import datetime \n",
    "\n",
    "num_epochs = 100\n",
    "num_batch_size = 32\n",
    "\n",
    "checkpointer = ModelCheckpoint(filepath='saved_models/weights.best.basic_mlp.hdf5', \n",
    "                               verbose=1, save_best_only=True)\n",
    "start = datetime.now()\n",
    "\n",
    "model.fit(x_train, y_train, batch_size=num_batch_size, epochs=num_epochs, validation_data=(x_test, y_test), callbacks=[checkpointer], verbose=1)\n",
    "\n",
    "\n",
    "duration = datetime.now() - start\n",
    "print(\"Training completed in time: \", duration)"
   ]
  },
  {
   "cell_type": "markdown",
   "metadata": {},
   "source": [
    "### Test the model \n",
    "\n",
    "Here we will review the accuracy of the model on both the training and test data sets. "
   ]
  },
  {
   "cell_type": "code",
   "execution_count": 6,
   "metadata": {},
   "outputs": [
    {
     "name": "stdout",
     "output_type": "stream",
     "text": [
      "Training Accuracy:  0.9305971264839172\n",
      "Testing Accuracy:  0.8672364950180054\n"
     ]
    }
   ],
   "source": [
    "# Evaluating the model on the training and testing set\n",
    "score = model.evaluate(x_train, y_train, verbose=0)\n",
    "print(\"Training Accuracy: \", score[1])\n",
    "\n",
    "score = model.evaluate(x_test, y_test, verbose=0)\n",
    "print(\"Testing Accuracy: \", score[1])"
   ]
  },
  {
   "cell_type": "markdown",
   "metadata": {},
   "source": [
    "The initial Training and Testing accuracy scores are quite high. As there is not a great difference between the Training and Test scores (~5%) this suggests that the model has not suffered from overfitting. "
   ]
  },
  {
   "cell_type": "markdown",
   "metadata": {},
   "source": [
    "### Predictions  \n",
    "\n",
    "Here we will build a method which will allow us to test the models predictions on a specified audio .wav file. "
   ]
  },
  {
   "cell_type": "code",
   "execution_count": 7,
   "metadata": {},
   "outputs": [],
   "source": [
    "import librosa \n",
    "import numpy as np \n",
    "\n",
    "def extract_feature(file_name):\n",
    "   \n",
    "    try:\n",
    "        audio_data, sample_rate = librosa.load(file_name, res_type='kaiser_fast') \n",
    "        mfccs = librosa.feature.mfcc(y=audio_data, sr=sample_rate, n_mfcc=40)\n",
    "        mfccsscaled = np.mean(mfccs.T,axis=0)\n",
    "        \n",
    "    except Exception as e:\n",
    "        print(\"Error encountered while parsing file: \", file)\n",
    "        return None, None\n",
    "\n",
    "    return np.array([mfccsscaled])\n"
   ]
  },
  {
   "cell_type": "code",
   "execution_count": 8,
   "metadata": {},
   "outputs": [],
   "source": [
    "def print_prediction(file_name):\n",
    "    prediction_feature = extract_feature(file_name) \n",
    "\n",
    "    predicted_vector = model.predict_classes(prediction_feature)\n",
    "    predicted_class = le.inverse_transform(predicted_vector) \n",
    "    print(\"The predicted class is:\", predicted_class[0], '\\n') \n",
    "\n",
    "    predicted_proba_vector = model.predict_proba(prediction_feature) \n",
    "    predicted_proba = predicted_proba_vector[0]\n",
    "    for i in range(len(predicted_proba)): \n",
    "        category = le.inverse_transform(np.array([i]))\n",
    "        print(category[0], \"\\t\\t : \", format(predicted_proba[i], '.32f') )"
   ]
  },
  {
   "cell_type": "markdown",
   "metadata": {},
   "source": [
    "### Validation \n",
    "\n",
    "#### Test with sample data \n",
    "\n",
    "Initial sainity check to verify the predictions using a subsection of the sample audio files we explored in the first notebook. We expect the bulk of these to be classified correctly. "
   ]
  },
  {
   "cell_type": "code",
   "execution_count": 9,
   "metadata": {},
   "outputs": [
    {
     "name": "stdout",
     "output_type": "stream",
     "text": [
      "The predicted class is: air_conditioner \n",
      "\n",
      "air_conditioner \t\t :  0.99992167949676513671875000000000\n",
      "car_horn \t\t :  0.00000011361459684167130035348237\n",
      "children_playing \t\t :  0.00002181141280743759125471115112\n",
      "dog_bark \t\t :  0.00000011583942693960125325247645\n",
      "drilling \t\t :  0.00001428144241799600422382354736\n",
      "engine_idling \t\t :  0.00002238951310573611408472061157\n",
      "glass_breaking \t\t :  0.00000000000000001593990606151730\n",
      "gun_shot \t\t :  0.00000009452040927726557129062712\n",
      "jackhammer \t\t :  0.00000680893981552799232304096222\n",
      "siren \t\t :  0.00000001328410181855588234611787\n",
      "street_music \t\t :  0.00001268768573936540633440017700\n"
     ]
    },
    {
     "name": "stderr",
     "output_type": "stream",
     "text": [
      "C:\\Users\\forge\\anaconda3\\lib\\site-packages\\tensorflow\\python\\keras\\engine\\sequential.py:450: UserWarning: `model.predict_classes()` is deprecated and will be removed after 2021-01-01. Please use instead:* `np.argmax(model.predict(x), axis=-1)`,   if your model does multi-class classification   (e.g. if it uses a `softmax` last-layer activation).* `(model.predict(x) > 0.5).astype(\"int32\")`,   if your model does binary classification   (e.g. if it uses a `sigmoid` last-layer activation).\n",
      "  warnings.warn('`model.predict_classes()` is deprecated and '\n",
      "C:\\Users\\forge\\anaconda3\\lib\\site-packages\\tensorflow\\python\\keras\\engine\\sequential.py:425: UserWarning: `model.predict_proba()` is deprecated and will be removed after 2021-01-01. Please use `model.predict()` instead.\n",
      "  warnings.warn('`model.predict_proba()` is deprecated and '\n"
     ]
    }
   ],
   "source": [
    "# Class: Air Conditioner\n",
    "\n",
    "filename = '../UrbanSound Dataset sample/audio/100852-0-0-0.wav' \n",
    "print_prediction(filename) "
   ]
  },
  {
   "cell_type": "code",
   "execution_count": 10,
   "metadata": {
    "scrolled": true
   },
   "outputs": [
    {
     "name": "stdout",
     "output_type": "stream",
     "text": [
      "The predicted class is: drilling \n",
      "\n",
      "air_conditioner \t\t :  0.00000000057680454856878782265994\n",
      "car_horn \t\t :  0.00000257601095654536038637161255\n",
      "children_playing \t\t :  0.00003667188866529613733291625977\n",
      "dog_bark \t\t :  0.00014999869745224714279174804688\n",
      "drilling \t\t :  0.91963499784469604492187500000000\n",
      "engine_idling \t\t :  0.00000000083946655182742802026041\n",
      "glass_breaking \t\t :  0.00000000000005380912661517682494\n",
      "gun_shot \t\t :  0.00000523378093930659815669059753\n",
      "jackhammer \t\t :  0.00000159687692757870536297559738\n",
      "siren \t\t :  0.00000000484430495717447229253594\n",
      "street_music \t\t :  0.08016889542341232299804687500000\n"
     ]
    }
   ],
   "source": [
    "# Class: Drilling\n",
    "\n",
    "filename = '../UrbanSound Dataset sample/audio/103199-4-0-0.wav'\n",
    "print_prediction(filename) "
   ]
  },
  {
   "cell_type": "code",
   "execution_count": 11,
   "metadata": {},
   "outputs": [
    {
     "name": "stdout",
     "output_type": "stream",
     "text": [
      "The predicted class is: street_music \n",
      "\n",
      "air_conditioner \t\t :  0.00386408553458750247955322265625\n",
      "car_horn \t\t :  0.00136877305340021848678588867188\n",
      "children_playing \t\t :  0.04986609518527984619140625000000\n",
      "dog_bark \t\t :  0.00349211902357637882232666015625\n",
      "drilling \t\t :  0.00110241328366100788116455078125\n",
      "engine_idling \t\t :  0.00106547353789210319519042968750\n",
      "glass_breaking \t\t :  0.00000000000003984033697564115517\n",
      "gun_shot \t\t :  0.00004347573121776804327964782715\n",
      "jackhammer \t\t :  0.00237104855477809906005859375000\n",
      "siren \t\t :  0.00021826046577189117670059204102\n",
      "street_music \t\t :  0.93660825490951538085937500000000\n"
     ]
    }
   ],
   "source": [
    "# Class: Street music \n",
    "\n",
    "filename = '../UrbanSound Dataset sample/audio/101848-9-0-0.wav'\n",
    "print_prediction(filename) "
   ]
  },
  {
   "cell_type": "code",
   "execution_count": 12,
   "metadata": {},
   "outputs": [
    {
     "name": "stdout",
     "output_type": "stream",
     "text": [
      "The predicted class is: dog_bark \n",
      "\n",
      "air_conditioner \t\t :  0.00956585630774497985839843750000\n",
      "car_horn \t\t :  0.06483205407857894897460937500000\n",
      "children_playing \t\t :  0.11096300184726715087890625000000\n",
      "dog_bark \t\t :  0.35184580087661743164062500000000\n",
      "drilling \t\t :  0.12993347644805908203125000000000\n",
      "engine_idling \t\t :  0.01048373430967330932617187500000\n",
      "glass_breaking \t\t :  0.01307544298470020294189453125000\n",
      "gun_shot \t\t :  0.05226016417145729064941406250000\n",
      "jackhammer \t\t :  0.03807688504457473754882812500000\n",
      "siren \t\t :  0.01632021740078926086425781250000\n",
      "street_music \t\t :  0.20264334976673126220703125000000\n"
     ]
    }
   ],
   "source": [
    "# Class: Car Horn \n",
    "\n",
    "filename = '../UrbanSound Dataset sample/audio/100648-1-0-0.wav'\n",
    "print_prediction(filename) "
   ]
  },
  {
   "cell_type": "markdown",
   "metadata": {},
   "source": [
    "#### Observations \n",
    "\n",
    "From this brief sanity check the model seems to predict well. One errror was observed whereby a car horn was incorrectly classifed as a dog bark. \n",
    "\n",
    "We can see from the per class confidence that this was quite a low score (43%). This allows follows our early observation that a dog bark and car horn are similar in spectral shape. "
   ]
  },
  {
   "cell_type": "markdown",
   "metadata": {},
   "source": [
    "### Other audio\n",
    "\n",
    "Here we will use a sample of various copyright free sounds that we not part of either our test or training data to further validate our model. "
   ]
  },
  {
   "cell_type": "code",
   "execution_count": 13,
   "metadata": {},
   "outputs": [
    {
     "name": "stdout",
     "output_type": "stream",
     "text": [
      "The predicted class is: dog_bark \n",
      "\n",
      "air_conditioner \t\t :  0.00003251403541071340441703796387\n",
      "car_horn \t\t :  0.01037766505032777786254882812500\n",
      "children_playing \t\t :  0.00129639077931642532348632812500\n",
      "dog_bark \t\t :  0.54404258728027343750000000000000\n",
      "drilling \t\t :  0.00237517897039651870727539062500\n",
      "engine_idling \t\t :  0.00002496482375136110931634902954\n",
      "glass_breaking \t\t :  0.00000000166194058515145570709137\n",
      "gun_shot \t\t :  0.01835866458714008331298828125000\n",
      "jackhammer \t\t :  0.00000079512329875797149725258350\n",
      "siren \t\t :  0.00026770590920932590961456298828\n",
      "street_music \t\t :  0.42322346568107604980468750000000\n"
     ]
    }
   ],
   "source": [
    "filename = '../Evaluation audio/dog_bark_1.wav'\n",
    "print_prediction(filename) "
   ]
  },
  {
   "cell_type": "code",
   "execution_count": 14,
   "metadata": {
    "scrolled": true
   },
   "outputs": [
    {
     "name": "stdout",
     "output_type": "stream",
     "text": [
      "The predicted class is: air_conditioner \n",
      "\n",
      "air_conditioner \t\t :  0.83771055936813354492187500000000\n",
      "car_horn \t\t :  0.00000222103835767484270036220551\n",
      "children_playing \t\t :  0.00037872296525165438652038574219\n",
      "dog_bark \t\t :  0.00022419940796680748462677001953\n",
      "drilling \t\t :  0.01977697014808654785156250000000\n",
      "engine_idling \t\t :  0.00065056153107434511184692382812\n",
      "glass_breaking \t\t :  0.00000001530618298772878915769979\n",
      "gun_shot \t\t :  0.00057724950602278113365173339844\n",
      "jackhammer \t\t :  0.14055275917053222656250000000000\n",
      "siren \t\t :  0.00001812992923078127205371856689\n",
      "street_music \t\t :  0.00010872689017560333013534545898\n"
     ]
    }
   ],
   "source": [
    "filename = '../Evaluation audio/drilling_1.wav'\n",
    "\n",
    "print_prediction(filename) "
   ]
  },
  {
   "cell_type": "code",
   "execution_count": 15,
   "metadata": {},
   "outputs": [
    {
     "name": "stdout",
     "output_type": "stream",
     "text": [
      "The predicted class is: street_music \n",
      "\n",
      "air_conditioner \t\t :  0.08496322482824325561523437500000\n",
      "car_horn \t\t :  0.00068769109202548861503601074219\n",
      "children_playing \t\t :  0.00172164384275674819946289062500\n",
      "dog_bark \t\t :  0.33616262674331665039062500000000\n",
      "drilling \t\t :  0.00136100663803517818450927734375\n",
      "engine_idling \t\t :  0.02243471145629882812500000000000\n",
      "glass_breaking \t\t :  0.00000002199923976320405927253887\n",
      "gun_shot \t\t :  0.01535068452358245849609375000000\n",
      "jackhammer \t\t :  0.00000508102175444946624338626862\n",
      "siren \t\t :  0.00337660964578390121459960937500\n",
      "street_music \t\t :  0.53393661975860595703125000000000\n"
     ]
    }
   ],
   "source": [
    "filename = '../Evaluation audio/gun_shot_1.wav'\n",
    "\n",
    "print_prediction(filename) \n",
    "\n",
    "# sample data weighted towards gun shot - peak in the dog barking sample is simmilar in shape to the gun shot sample"
   ]
  },
  {
   "cell_type": "code",
   "execution_count": 16,
   "metadata": {},
   "outputs": [
    {
     "name": "stdout",
     "output_type": "stream",
     "text": [
      "The predicted class is: siren \n",
      "\n",
      "air_conditioner \t\t :  0.01246712636202573776245117187500\n",
      "car_horn \t\t :  0.00060824892716482281684875488281\n",
      "children_playing \t\t :  0.06705556064844131469726562500000\n",
      "dog_bark \t\t :  0.12617360055446624755859375000000\n",
      "drilling \t\t :  0.00051219062879681587219238281250\n",
      "engine_idling \t\t :  0.35182273387908935546875000000000\n",
      "glass_breaking \t\t :  0.00000006753698045258715865202248\n",
      "gun_shot \t\t :  0.03474744036793708801269531250000\n",
      "jackhammer \t\t :  0.00031340445275418460369110107422\n",
      "siren \t\t :  0.37929305434226989746093750000000\n",
      "street_music \t\t :  0.02700663730502128601074218750000\n"
     ]
    }
   ],
   "source": [
    "filename = '../Evaluation audio/siren_1.wav'\n",
    "\n",
    "print_prediction(filename) "
   ]
  },
  {
   "cell_type": "code",
   "execution_count": 17,
   "metadata": {},
   "outputs": [
    {
     "name": "stdout",
     "output_type": "stream",
     "text": [
      "The predicted class is: glass_breaking \n",
      "\n",
      "air_conditioner \t\t :  0.00000000773925190600266432738863\n",
      "car_horn \t\t :  0.00007980560621945187449455261230\n",
      "children_playing \t\t :  0.00307534891180694103240966796875\n",
      "dog_bark \t\t :  0.44493219256401062011718750000000\n",
      "drilling \t\t :  0.02916192077100276947021484375000\n",
      "engine_idling \t\t :  0.00000000532864996571902338473592\n",
      "glass_breaking \t\t :  0.51823097467422485351562500000000\n",
      "gun_shot \t\t :  0.00438902992755174636840820312500\n",
      "jackhammer \t\t :  0.00000005234744548943126574158669\n",
      "siren \t\t :  0.00012287043500691652297973632812\n",
      "street_music \t\t :  0.00000787032058724435046315193176\n"
     ]
    }
   ],
   "source": [
    "filename = '../Evaluation audio/glass_break_1.wav'\n",
    "\n",
    "print_prediction(filename) "
   ]
  },
  {
   "cell_type": "markdown",
   "metadata": {},
   "source": [
    "#### Observations \n",
    "\n",
    "The performance of our initial model is satisfactorry and has generalised well, seeming to predict well when tested against new audio data. "
   ]
  },
  {
   "cell_type": "markdown",
   "metadata": {},
   "source": [
    "### *In the next notebook we will refine our model*"
   ]
  },
  {
   "cell_type": "code",
   "execution_count": null,
   "metadata": {},
   "outputs": [],
   "source": []
  }
 ],
 "metadata": {
  "kernelspec": {
   "display_name": "Python 3",
   "language": "python",
   "name": "python3"
  },
  "language_info": {
   "codemirror_mode": {
    "name": "ipython",
    "version": 3
   },
   "file_extension": ".py",
   "mimetype": "text/x-python",
   "name": "python",
   "nbconvert_exporter": "python",
   "pygments_lexer": "ipython3",
   "version": "3.8.5"
  }
 },
 "nbformat": 4,
 "nbformat_minor": 2
}
